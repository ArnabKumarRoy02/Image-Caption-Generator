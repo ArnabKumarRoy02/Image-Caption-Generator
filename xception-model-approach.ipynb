{
 "cells": [
  {
   "cell_type": "markdown",
   "id": "db48c934",
   "metadata": {
    "papermill": {
     "duration": 0.002323,
     "end_time": "2023-03-28T18:45:50.788689",
     "exception": false,
     "start_time": "2023-03-28T18:45:50.786366",
     "status": "completed"
    },
    "tags": []
   },
   "source": [
    "# Importing the dependencies"
   ]
  },
  {
   "cell_type": "code",
   "execution_count": 1,
   "id": "94ed096b",
   "metadata": {
    "_cell_guid": "b1076dfc-b9ad-4769-8c92-a6c4dae69d19",
    "_uuid": "8f2839f25d086af736a60e9eeb907d3b93b6e0e5",
    "execution": {
     "iopub.execute_input": "2023-03-28T18:45:50.794022Z",
     "iopub.status.busy": "2023-03-28T18:45:50.793243Z",
     "iopub.status.idle": "2023-03-28T18:45:57.409726Z",
     "shell.execute_reply": "2023-03-28T18:45:57.408581Z"
    },
    "papermill": {
     "duration": 6.622182,
     "end_time": "2023-03-28T18:45:57.412531",
     "exception": false,
     "start_time": "2023-03-28T18:45:50.790349",
     "status": "completed"
    },
    "tags": []
   },
   "outputs": [],
   "source": [
    "import os\n",
    "import keras\n",
    "import tensorflow as tf\n",
    "import tensorflow.keras.backend as K\n",
    "import matplotlib.pyplot as plt\n",
    "import sys\n",
    "import pickle\n",
    "import string\n",
    "import numpy as np"
   ]
  },
  {
   "cell_type": "code",
   "execution_count": 2,
   "id": "e43c77d0",
   "metadata": {
    "execution": {
     "iopub.execute_input": "2023-03-28T18:45:57.418111Z",
     "iopub.status.busy": "2023-03-28T18:45:57.416788Z",
     "iopub.status.idle": "2023-03-28T18:45:58.560789Z",
     "shell.execute_reply": "2023-03-28T18:45:58.559774Z"
    },
    "papermill": {
     "duration": 1.149122,
     "end_time": "2023-03-28T18:45:58.563339",
     "exception": false,
     "start_time": "2023-03-28T18:45:57.414217",
     "status": "completed"
    },
    "tags": []
   },
   "outputs": [],
   "source": [
    "from tensorflow.keras.utils import plot_model\n",
    "from tensorflow.keras.applications.xception import Xception\n",
    "from tensorflow.keras.preprocessing.image import load_img\n",
    "from tensorflow.keras.preprocessing.image import img_to_array\n",
    "from tensorflow.keras.applications.xception import preprocess_input\n",
    "from tensorflow.keras.models import Model\n",
    "from pickle import load\n",
    "from tensorflow.keras.preprocessing.sequence import pad_sequences\n",
    "from tensorflow.keras.utils import to_categorical\n",
    "from tensorflow.keras.utils import plot_model\n",
    "from tensorflow.keras.layers import Input\n",
    "from tensorflow.keras.layers import Dense\n",
    "from tensorflow.keras.layers import LSTM, GRU\n",
    "from tensorflow.keras.layers import Embedding\n",
    "from tensorflow.keras.layers import Dropout, Reshape, Lambda, Concatenate\n",
    "from tensorflow.keras.layers import add\n",
    "from tensorflow.keras.callbacks import ModelCheckpoint\n",
    "from tensorflow.keras import optimizers\n",
    "from nltk.translate.bleu_score import corpus_bleu\n",
    "\n",
    "emb_dim = 50\n",
    "batch_size = 32\n",
    "snapshot_folder = '/kaggle/input/weights-image/'"
   ]
  }
 ],
 "metadata": {
  "kernelspec": {
   "display_name": "Python 3",
   "language": "python",
   "name": "python3"
  },
  "language_info": {
   "codemirror_mode": {
    "name": "ipython",
    "version": 3
   },
   "file_extension": ".py",
   "mimetype": "text/x-python",
   "name": "python",
   "nbconvert_exporter": "python",
   "pygments_lexer": "ipython3",
   "version": "3.7.12"
  },
  "papermill": {
   "default_parameters": {},
   "duration": 19.810975,
   "end_time": "2023-03-28T18:46:01.519072",
   "environment_variables": {},
   "exception": null,
   "input_path": "__notebook__.ipynb",
   "output_path": "__notebook__.ipynb",
   "parameters": {},
   "start_time": "2023-03-28T18:45:41.708097",
   "version": "2.4.0"
  }
 },
 "nbformat": 4,
 "nbformat_minor": 5
}
