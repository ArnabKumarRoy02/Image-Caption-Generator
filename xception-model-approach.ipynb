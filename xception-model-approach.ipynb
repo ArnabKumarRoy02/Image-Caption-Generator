{
 "cells": [
  {
   "cell_type": "markdown",
   "id": "ecd0a83d",
   "metadata": {
    "papermill": {
     "duration": 0.003535,
     "end_time": "2023-03-29T21:17:24.262186",
     "exception": false,
     "start_time": "2023-03-29T21:17:24.258651",
     "status": "completed"
    },
    "tags": []
   },
   "source": [
    "# Importing the dependencies"
   ]
  },
  {
   "cell_type": "code",
   "execution_count": 1,
   "id": "a0d7eb70",
   "metadata": {
    "_cell_guid": "b1076dfc-b9ad-4769-8c92-a6c4dae69d19",
    "_uuid": "8f2839f25d086af736a60e9eeb907d3b93b6e0e5",
    "execution": {
     "iopub.execute_input": "2023-03-29T21:17:24.269026Z",
     "iopub.status.busy": "2023-03-29T21:17:24.268532Z",
     "iopub.status.idle": "2023-03-29T21:17:31.374472Z",
     "shell.execute_reply": "2023-03-29T21:17:31.373349Z"
    },
    "papermill": {
     "duration": 7.112261,
     "end_time": "2023-03-29T21:17:31.377143",
     "exception": false,
     "start_time": "2023-03-29T21:17:24.264882",
     "status": "completed"
    },
    "tags": []
   },
   "outputs": [],
   "source": [
    "import os\n",
    "import keras\n",
    "import tensorflow as tf\n",
    "import tensorflow.keras.backend as K\n",
    "import matplotlib.pyplot as plt\n",
    "import sys\n",
    "import pickle\n",
    "import string\n",
    "import numpy as np"
   ]
  },
  {
   "cell_type": "code",
   "execution_count": 2,
   "id": "7a1caee0",
   "metadata": {
    "execution": {
     "iopub.execute_input": "2023-03-29T21:17:31.384951Z",
     "iopub.status.busy": "2023-03-29T21:17:31.383590Z",
     "iopub.status.idle": "2023-03-29T21:17:32.601866Z",
     "shell.execute_reply": "2023-03-29T21:17:32.600782Z"
    },
    "papermill": {
     "duration": 1.225002,
     "end_time": "2023-03-29T21:17:32.604914",
     "exception": false,
     "start_time": "2023-03-29T21:17:31.379912",
     "status": "completed"
    },
    "tags": []
   },
   "outputs": [],
   "source": [
    "from tensorflow.keras.utils import plot_model\n",
    "from tensorflow.keras.applications.xception import Xception\n",
    "from tensorflow.keras.preprocessing.image import load_img\n",
    "from tensorflow.keras.preprocessing.image import img_to_array\n",
    "from tensorflow.keras.applications.xception import preprocess_input\n",
    "from tensorflow.keras.models import Model\n",
    "from pickle import load\n",
    "from tensorflow.keras.preprocessing.sequence import pad_sequences\n",
    "from tensorflow.keras.utils import to_categorical\n",
    "from tensorflow.keras.utils import plot_model\n",
    "from tensorflow.keras.layers import Input\n",
    "from tensorflow.keras.layers import Dense\n",
    "from tensorflow.keras.layers import LSTM, GRU\n",
    "from tensorflow.keras.layers import Embedding\n",
    "from tensorflow.keras.layers import Dropout, Reshape, Lambda, Concatenate\n",
    "from tensorflow.keras.layers import add\n",
    "from tensorflow.keras.callbacks import ModelCheckpoint\n",
    "from tensorflow.keras import optimizers\n",
    "from nltk.translate.bleu_score import corpus_bleu\n",
    "\n",
    "emb_dim = 50\n",
    "batch_size = 32\n",
    "snapshot_folder = '/kaggle/input/weights-image/'"
   ]
  },
  {
   "cell_type": "markdown",
   "id": "9d84bfca",
   "metadata": {
    "papermill": {
     "duration": 0.00264,
     "end_time": "2023-03-29T21:17:32.610467",
     "exception": false,
     "start_time": "2023-03-29T21:17:32.607827",
     "status": "completed"
    },
    "tags": []
   },
   "source": [
    "## Defining the Progress Bar"
   ]
  },
  {
   "cell_type": "code",
   "execution_count": 3,
   "id": "7324df4f",
   "metadata": {
    "execution": {
     "iopub.execute_input": "2023-03-29T21:17:32.617047Z",
     "iopub.status.busy": "2023-03-29T21:17:32.616702Z",
     "iopub.status.idle": "2023-03-29T21:17:32.623085Z",
     "shell.execute_reply": "2023-03-29T21:17:32.621936Z"
    },
    "papermill": {
     "duration": 0.01276,
     "end_time": "2023-03-29T21:17:32.625830",
     "exception": false,
     "start_time": "2023-03-29T21:17:32.613070",
     "status": "completed"
    },
    "tags": []
   },
   "outputs": [],
   "source": [
    "def progressBar(value, endvalue, bar_length=20, job='Job'):\n",
    "    percent = float(value) / endvalue\n",
    "    arrow = '-' * int(round(percent * bar_length) - 1) + '>'\n",
    "    spaces = ' ' * (bar_length - len(arrow))\n",
    "    \n",
    "    sys.stdout.write(\"\\r{0} Completion: [{1}] {2}%\".format(job, arrow + spaces, int(round(percent * 100))))\n",
    "    sys.stdout.flush()"
   ]
  },
  {
   "cell_type": "markdown",
   "id": "39c16d68",
   "metadata": {
    "papermill": {
     "duration": 0.00237,
     "end_time": "2023-03-29T21:17:32.630699",
     "exception": false,
     "start_time": "2023-03-29T21:17:32.628329",
     "status": "completed"
    },
    "tags": []
   },
   "source": [
    "## Loading Functions"
   ]
  },
  {
   "cell_type": "code",
   "execution_count": 4,
   "id": "810c95f9",
   "metadata": {
    "execution": {
     "iopub.execute_input": "2023-03-29T21:17:32.637077Z",
     "iopub.status.busy": "2023-03-29T21:17:32.636763Z",
     "iopub.status.idle": "2023-03-29T21:17:32.641436Z",
     "shell.execute_reply": "2023-03-29T21:17:32.640335Z"
    },
    "papermill": {
     "duration": 0.010388,
     "end_time": "2023-03-29T21:17:32.643607",
     "exception": false,
     "start_time": "2023-03-29T21:17:32.633219",
     "status": "completed"
    },
    "tags": []
   },
   "outputs": [],
   "source": [
    "def load_doc(filename):\n",
    "    file = open(filename, 'r')\n",
    "    text = file.read()\n",
    "    file.close()\n",
    "    return text"
   ]
  },
  {
   "cell_type": "code",
   "execution_count": 5,
   "id": "02f0d187",
   "metadata": {
    "execution": {
     "iopub.execute_input": "2023-03-29T21:17:32.649993Z",
     "iopub.status.busy": "2023-03-29T21:17:32.649734Z",
     "iopub.status.idle": "2023-03-29T21:17:32.656281Z",
     "shell.execute_reply": "2023-03-29T21:17:32.655347Z"
    },
    "papermill": {
     "duration": 0.012383,
     "end_time": "2023-03-29T21:17:32.658449",
     "exception": false,
     "start_time": "2023-03-29T21:17:32.646066",
     "status": "completed"
    },
    "tags": []
   },
   "outputs": [],
   "source": [
    "def load_set(filename):\n",
    "    doc = load_doc(filename)\n",
    "    dataset = list()\n",
    "    # process line by line\n",
    "    for line in doc.split('\\n'):\n",
    "        # skip empty lines\n",
    "        if len(line) < 1:\n",
    "            continue\n",
    "        # get the image identifier\n",
    "        identifier = line.split('.')[0]\n",
    "        dataset.append(identifier)\n",
    "    return list(set(dataset))"
   ]
  },
  {
   "cell_type": "code",
   "execution_count": 6,
   "id": "22a33589",
   "metadata": {
    "execution": {
     "iopub.execute_input": "2023-03-29T21:17:32.664260Z",
     "iopub.status.busy": "2023-03-29T21:17:32.664000Z",
     "iopub.status.idle": "2023-03-29T21:17:32.668837Z",
     "shell.execute_reply": "2023-03-29T21:17:32.667777Z"
    },
    "papermill": {
     "duration": 0.010428,
     "end_time": "2023-03-29T21:17:32.671256",
     "exception": false,
     "start_time": "2023-03-29T21:17:32.660828",
     "status": "completed"
    },
    "tags": []
   },
   "outputs": [],
   "source": [
    "def load_photo_features(filename, dataset):\n",
    "    # load all features\n",
    "    all_features = load(open(filename), 'rb')\n",
    "    # filter features\n",
    "    features = {k: all_features[k] for k in dataset}\n",
    "    return features"
   ]
  },
  {
   "cell_type": "code",
   "execution_count": null,
   "id": "9486137e",
   "metadata": {
    "papermill": {
     "duration": 0.0022,
     "end_time": "2023-03-29T21:17:32.675851",
     "exception": false,
     "start_time": "2023-03-29T21:17:32.673651",
     "status": "completed"
    },
    "tags": []
   },
   "outputs": [],
   "source": []
  }
 ],
 "metadata": {
  "kernelspec": {
   "display_name": "Python 3",
   "language": "python",
   "name": "python3"
  },
  "language_info": {
   "codemirror_mode": {
    "name": "ipython",
    "version": 3
   },
   "file_extension": ".py",
   "mimetype": "text/x-python",
   "name": "python",
   "nbconvert_exporter": "python",
   "pygments_lexer": "ipython3",
   "version": "3.7.12"
  },
  "papermill": {
   "default_parameters": {},
   "duration": 20.772077,
   "end_time": "2023-03-29T21:17:35.650548",
   "environment_variables": {},
   "exception": null,
   "input_path": "__notebook__.ipynb",
   "output_path": "__notebook__.ipynb",
   "parameters": {},
   "start_time": "2023-03-29T21:17:14.878471",
   "version": "2.4.0"
  }
 },
 "nbformat": 4,
 "nbformat_minor": 5
}
